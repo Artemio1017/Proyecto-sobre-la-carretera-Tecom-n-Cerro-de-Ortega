{
  "nbformat": 4,
  "nbformat_minor": 0,
  "metadata": {
    "colab": {
      "provenance": [],
      "authorship_tag": "ABX9TyOpVPXkbtYCKah/jFITHfX1",
      "include_colab_link": true
    },
    "kernelspec": {
      "name": "python3",
      "display_name": "Python 3"
    },
    "language_info": {
      "name": "python"
    }
  },
  "cells": [
    {
      "cell_type": "markdown",
      "metadata": {
        "id": "view-in-github",
        "colab_type": "text"
      },
      "source": [
        "<a href=\"https://colab.research.google.com/github/Artemio1017/Proyecto-sobre-la-carretera-Tecom-n-Cerro-de-Ortega/blob/main/C%C3%93DIGOS.ipynb\" target=\"_parent\"><img src=\"https://colab.research.google.com/assets/colab-badge.svg\" alt=\"Open In Colab\"/></a>"
      ]
    },
    {
      "cell_type": "markdown",
      "source": [
        "**CÓDIGO PARA CALCULAR LA FUERZA DE LA CARRETERA Y PREVENIR BACHES**"
      ],
      "metadata": {
        "id": "iKj62FmMZ5qc"
      }
    },
    {
      "cell_type": "code",
      "source": [
        "import numpy as np\n",
        "#Parámetros del material de la carretera\n",
        "modulo_elasticidad = 3e9  #en Pascales (ejemplo: asfalto)\n",
        "espesor_carretera = 0.15  #en metros\n",
        "limite_tension = 2.5e6    #tensión máxima permitida en Pascales (ejemplo)\n",
        "#Parámetros de la carga\n",
        "carga_aplicada = 10000    #en Newtons (peso del vehículo, por ejemplo)\n",
        "area_contacto = 0.01      #en metros cuadrados (área de contacto de la rueda)\n",
        "#Calcular presión en el área de contacto\n",
        "presion_contacto = carga_aplicada / area_contacto  # en Pascales\n",
        "#Calcular tensión en la carretera (simulación simplificada usando esfuerzo máximo)\n",
        "tension_generada = presion_contacto * espesor_carretera / modulo_elasticidad\n",
        "#Comparar con el límite de tensión\n",
        "if tension_generada < limite_tension:\n",
        "    print(\"La carretera soporta la carga sin generar baches.\")\n",
        "else:\n",
        "    print(\"El material de la carretera está sometido a demasiada tensión. Se podrían generar baches.\")\n",
        "#Imprimir los resultados\n",
        "print(f\"Tensión generada: {tension_generada:.2e} Pa\")\n",
        "print(f\"Límite de tensión: {limite_tension:.2e} Pa\")"
      ],
      "metadata": {
        "colab": {
          "base_uri": "https://localhost:8080/"
        },
        "id": "MG4ZZM2AZmVz",
        "outputId": "beaeec4b-ab4a-4915-9017-e9c3edd2b5f7"
      },
      "execution_count": 8,
      "outputs": [
        {
          "output_type": "stream",
          "name": "stdout",
          "text": [
            "La carretera soporta la carga sin generar baches.\n",
            "Tensión generada: 5.00e-05 Pa\n",
            "Límite de tensión: 2.50e+06 Pa\n"
          ]
        }
      ]
    },
    {
      "cell_type": "markdown",
      "source": [
        "**CÓDIGO PARA EL CÁLCULO DE PRESUPUESTO**"
      ],
      "metadata": {
        "id": "2wN9f7ZnaDnt"
      }
    },
    {
      "cell_type": "code",
      "source": [
        "#Parámetros iniciales\n",
        "costo_reparacion_por_bache = 1164  #Costo de reparar un bache (en dólares)\n",
        "cantidad_baches = 100             #Cantidad total de baches en la carretera\n",
        "presupuesto_total = 20000        #Presupuesto disponible (en dólares)\n",
        "#Calcular el costo total de reparación\n",
        "costo_total_reparacion = cantidad_baches * costo_reparacion_por_bache\n",
        "#Comparar con el presupuesto disponible\n",
        "if costo_total_reparacion <= presupuesto_total:\n",
        "    sobrante = presupuesto_total - costo_total_reparacion\n",
        "    print(\"El presupuesto es suficiente para reparar todos los baches.\")\n",
        "    print(f\"Dinero sobrante después de las reparaciones: ${sobrante:.2f}\")\n",
        "else:\n",
        "    print(\"El presupuesto no es suficiente para reparar todos los baches.\")\n",
        "    baches_reparables = presupuesto_total // costo_reparacion_por_bache\n",
        "    print(f\"Se pueden reparar aproximadamente {baches_reparables:.0f} baches con el presupuesto actual.\")\n",
        "#Imprimir resultados\n",
        "print(f\"Costo total de reparación: ${costo_total_reparacion:.2f}\")\n",
        "print(f\"Presupuesto disponible: ${presupuesto_total:.2f}\")"
      ],
      "metadata": {
        "colab": {
          "base_uri": "https://localhost:8080/"
        },
        "id": "MemzOvHwaDDm",
        "outputId": "c6b1bc19-9d86-4884-b9f1-a23281107e10"
      },
      "execution_count": 9,
      "outputs": [
        {
          "output_type": "stream",
          "name": "stdout",
          "text": [
            "El presupuesto no es suficiente para reparar todos los baches.\n",
            "Se pueden reparar aproximadamente 17 baches con el presupuesto actual.\n",
            "Costo total de reparación: $116400.00\n",
            "Presupuesto disponible: $20000.00\n"
          ]
        }
      ]
    },
    {
      "cell_type": "markdown",
      "source": [
        "**CODIGO PARA MOSTRAR EN UN MAPA HTML LA CARRETERA Y DISTINTOS PUNTOS SOBRE ELLEA**"
      ],
      "metadata": {
        "id": "Azq2lT7KZZQa"
      }
    },
    {
      "cell_type": "code",
      "execution_count": 1,
      "metadata": {
        "colab": {
          "base_uri": "https://localhost:8080/"
        },
        "id": "f_UBu_rvUfau",
        "outputId": "a7a257ac-3dbc-45db-c85d-119d1527c7cb"
      },
      "outputs": [
        {
          "output_type": "stream",
          "name": "stdout",
          "text": [
            "Requirement already satisfied: pandas in /usr/local/lib/python3.10/dist-packages (2.2.2)\n",
            "Requirement already satisfied: folium in /usr/local/lib/python3.10/dist-packages (0.18.0)\n",
            "Requirement already satisfied: geopy in /usr/local/lib/python3.10/dist-packages (2.4.1)\n",
            "Requirement already satisfied: openpyxl in /usr/local/lib/python3.10/dist-packages (3.1.5)\n",
            "Requirement already satisfied: numpy>=1.22.4 in /usr/local/lib/python3.10/dist-packages (from pandas) (1.26.4)\n",
            "Requirement already satisfied: python-dateutil>=2.8.2 in /usr/local/lib/python3.10/dist-packages (from pandas) (2.8.2)\n",
            "Requirement already satisfied: pytz>=2020.1 in /usr/local/lib/python3.10/dist-packages (from pandas) (2024.2)\n",
            "Requirement already satisfied: tzdata>=2022.7 in /usr/local/lib/python3.10/dist-packages (from pandas) (2024.2)\n",
            "Requirement already satisfied: branca>=0.6.0 in /usr/local/lib/python3.10/dist-packages (from folium) (0.8.0)\n",
            "Requirement already satisfied: jinja2>=2.9 in /usr/local/lib/python3.10/dist-packages (from folium) (3.1.4)\n",
            "Requirement already satisfied: requests in /usr/local/lib/python3.10/dist-packages (from folium) (2.32.3)\n",
            "Requirement already satisfied: xyzservices in /usr/local/lib/python3.10/dist-packages (from folium) (2024.9.0)\n",
            "Requirement already satisfied: geographiclib<3,>=1.52 in /usr/local/lib/python3.10/dist-packages (from geopy) (2.0)\n",
            "Requirement already satisfied: et-xmlfile in /usr/local/lib/python3.10/dist-packages (from openpyxl) (2.0.0)\n",
            "Requirement already satisfied: MarkupSafe>=2.0 in /usr/local/lib/python3.10/dist-packages (from jinja2>=2.9->folium) (3.0.2)\n",
            "Requirement already satisfied: six>=1.5 in /usr/local/lib/python3.10/dist-packages (from python-dateutil>=2.8.2->pandas) (1.16.0)\n",
            "Requirement already satisfied: charset-normalizer<4,>=2 in /usr/local/lib/python3.10/dist-packages (from requests->folium) (3.4.0)\n",
            "Requirement already satisfied: idna<4,>=2.5 in /usr/local/lib/python3.10/dist-packages (from requests->folium) (3.10)\n",
            "Requirement already satisfied: urllib3<3,>=1.21.1 in /usr/local/lib/python3.10/dist-packages (from requests->folium) (2.2.3)\n",
            "Requirement already satisfied: certifi>=2017.4.17 in /usr/local/lib/python3.10/dist-packages (from requests->folium) (2024.8.30)\n"
          ]
        }
      ],
      "source": [
        "pip install pandas folium geopy openpyxl\n"
      ]
    },
    {
      "cell_type": "code",
      "source": [
        "import pandas as pd\n",
        "import folium\n",
        "from geopy.distance import geodesic\n",
        "from shapely.geometry import Polygon\n",
        "\n",
        "# Crear un archivo Excel con datos de latitud y longitud\n",
        "datos = {\n",
        "    \"latitud\": [18.940366,18.941291,18.943720,18.943696,18.938971,18.934044,18.932349,18.925118,18.909256,18.897659],\n",
        "    \"longitud\": [-103.894279,-103.891595,-103.888927,-103.883153,-103.875472,-103.867526,-103.860385,-103.854995,-103.854167,-103.859358]\n",
        "}\n",
        "\n",
        "# Crear un DataFrame con los datos\n",
        "df = pd.DataFrame(datos)\n",
        "\n",
        "# Guardar el DataFrame como archivo Excel\n",
        "archivo_excel = \"datos_geograficos.xlsx\"\n",
        "df.to_excel(archivo_excel, index=False)\n",
        "print(f\"Archivo Excel creado: {archivo_excel}\")"
      ],
      "metadata": {
        "colab": {
          "base_uri": "https://localhost:8080/"
        },
        "id": "Re9VrTwdUu5P",
        "outputId": "e34015b7-6c0f-4e7f-df92-505c060190c5"
      },
      "execution_count": 2,
      "outputs": [
        {
          "output_type": "stream",
          "name": "stdout",
          "text": [
            "Archivo Excel creado: datos_geograficos.xlsx\n"
          ]
        }
      ]
    },
    {
      "cell_type": "code",
      "source": [
        "import pandas as pd\n",
        "import folium\n",
        "from geopy.distance import geodesic\n",
        "from shapely.geometry import Polygon\n",
        "from IPython.display import display\n",
        "from google.colab import files\n",
        "# Paso 2: Leer el archivo Excel\n",
        "df = pd.read_excel(archivo_excel)\n",
        "\n",
        "# Verifica que las columnas de latitud y longitud existan\n",
        "if not {'latitud', 'longitud'}.issubset(df.columns):\n",
        "    raise ValueError(\"El archivo debe contener columnas llamadas 'latitud' y 'longitud'.\")\n",
        "\n",
        "# Crear un mapa centrado en el primer punto\n",
        "lat_inicial = df.iloc[0]['latitud']\n",
        "lon_inicial = df.iloc[0]['longitud']\n",
        "mapa = folium.Map(location=[lat_inicial, lon_inicial], zoom_start=12)\n",
        "\n",
        "# Agregar puntos al mapa\n",
        "for _, row in df.iterrows():\n",
        "    folium.Marker([row['latitud'], row['longitud']], popup=f\"({row['latitud']}, {row['longitud']})\").add_to(mapa)\n",
        "\n",
        "# Guardar el mapa como un archivo HTML\n",
        "nombre_mapa = \"mapa_interactivo.html\"\n",
        "mapa.save(nombre_mapa)\n",
        "print(\"Mapa generado: mapa_interactivo.html\")\n",
        "\n",
        "# Descargar el mapa interactivo en Colab\n",
        "files.download(nombre_mapa)\n",
        "\n",
        "# Calcular la distancia total entre puntos consecutivos\n",
        "distancia_total = 0\n",
        "puntos = list(zip(df['latitud'], df['longitud']))\n",
        "\n",
        "for i in range(len(puntos) - 1):\n",
        "    distancia_total += geodesic(puntos[i], puntos[i + 1]).kilometers\n",
        "\n",
        "print(f\"Distancia total (km): {distancia_total:.2f}\")\n",
        "\n",
        "# Calcular el área aproximada si los puntos forman un polígono cerrado\n",
        "if len(puntos) > 2:\n",
        "    polygon = Polygon(puntos)\n",
        "    area = polygon.area  # El área está en unidades cuadradas de grados\n",
        "    print(f\"Área aproximada en grados cuadrados: {area:.6f}\")\n",
        "else:\n",
        "    print(\"No es posible calcular el área con menos de 3 puntos.\")"
      ],
      "metadata": {
        "colab": {
          "base_uri": "https://localhost:8080/",
          "height": 69
        },
        "id": "mp0SjXvtWkrb",
        "outputId": "9fdf2a73-edf0-4d25-8404-052e9dd604b2"
      },
      "execution_count": 7,
      "outputs": [
        {
          "output_type": "stream",
          "name": "stdout",
          "text": [
            "Mapa generado: mapa_interactivo.html\n"
          ]
        },
        {
          "output_type": "display_data",
          "data": {
            "text/plain": [
              "<IPython.core.display.Javascript object>"
            ],
            "application/javascript": [
              "\n",
              "    async function download(id, filename, size) {\n",
              "      if (!google.colab.kernel.accessAllowed) {\n",
              "        return;\n",
              "      }\n",
              "      const div = document.createElement('div');\n",
              "      const label = document.createElement('label');\n",
              "      label.textContent = `Downloading \"${filename}\": `;\n",
              "      div.appendChild(label);\n",
              "      const progress = document.createElement('progress');\n",
              "      progress.max = size;\n",
              "      div.appendChild(progress);\n",
              "      document.body.appendChild(div);\n",
              "\n",
              "      const buffers = [];\n",
              "      let downloaded = 0;\n",
              "\n",
              "      const channel = await google.colab.kernel.comms.open(id);\n",
              "      // Send a message to notify the kernel that we're ready.\n",
              "      channel.send({})\n",
              "\n",
              "      for await (const message of channel.messages) {\n",
              "        // Send a message to notify the kernel that we're ready.\n",
              "        channel.send({})\n",
              "        if (message.buffers) {\n",
              "          for (const buffer of message.buffers) {\n",
              "            buffers.push(buffer);\n",
              "            downloaded += buffer.byteLength;\n",
              "            progress.value = downloaded;\n",
              "          }\n",
              "        }\n",
              "      }\n",
              "      const blob = new Blob(buffers, {type: 'application/binary'});\n",
              "      const a = document.createElement('a');\n",
              "      a.href = window.URL.createObjectURL(blob);\n",
              "      a.download = filename;\n",
              "      div.appendChild(a);\n",
              "      a.click();\n",
              "      div.remove();\n",
              "    }\n",
              "  "
            ]
          },
          "metadata": {}
        },
        {
          "output_type": "display_data",
          "data": {
            "text/plain": [
              "<IPython.core.display.Javascript object>"
            ],
            "application/javascript": [
              "download(\"download_8a37f892-590b-46dd-a467-7267474424eb\", \"mapa_interactivo.html\", 10630)"
            ]
          },
          "metadata": {}
        },
        {
          "output_type": "stream",
          "name": "stdout",
          "text": [
            "Distancia total (km): 8.17\n",
            "Área aproximada en grados cuadrados: 0.000807\n"
          ]
        }
      ]
    },
    {
      "cell_type": "markdown",
      "source": [],
      "metadata": {
        "id": "jSG6MB-HZXUy"
      }
    },
    {
      "cell_type": "code",
      "source": [],
      "metadata": {
        "id": "WoeQCTTbZYTx"
      },
      "execution_count": null,
      "outputs": []
    }
  ]
}